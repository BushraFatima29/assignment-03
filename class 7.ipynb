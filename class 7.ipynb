{
 "cells": [
  {
   "cell_type": "markdown",
   "metadata": {},
   "source": [
    "# args, kwargs(key word arguments)\n"
   ]
  },
  {
   "cell_type": "code",
   "execution_count": 1,
   "metadata": {},
   "outputs": [],
   "source": [
    "def car(model,year):\n",
    "    print(model,year)"
   ]
  },
  {
   "cell_type": "code",
   "execution_count": 2,
   "metadata": {},
   "outputs": [
    {
     "name": "stdout",
     "output_type": "stream",
     "text": [
      "honda civic 2019\n"
     ]
    }
   ],
   "source": [
    "car('honda civic',2019)"
   ]
  },
  {
   "cell_type": "code",
   "execution_count": 3,
   "metadata": {},
   "outputs": [
    {
     "name": "stdout",
     "output_type": "stream",
     "text": [
      "2019 honda civic\n"
     ]
    }
   ],
   "source": [
    "car(2019,'honda civic')"
   ]
  },
  {
   "cell_type": "code",
   "execution_count": 4,
   "metadata": {},
   "outputs": [
    {
     "name": "stdout",
     "output_type": "stream",
     "text": [
      "honda civic 2019\n"
     ]
    }
   ],
   "source": [
    "car(year=2019,model='honda civic')"
   ]
  },
  {
   "cell_type": "code",
   "execution_count": 5,
   "metadata": {},
   "outputs": [],
   "source": [
    "def name(fname,lname):\n",
    "    print(f'first name:{fname}')\n",
    "    print(f'last name:{lname}')"
   ]
  },
  {
   "cell_type": "code",
   "execution_count": 6,
   "metadata": {},
   "outputs": [
    {
     "name": "stdout",
     "output_type": "stream",
     "text": [
      "first name:bushra\n",
      "last name:fatima\n"
     ]
    }
   ],
   "source": [
    "name('bushra','fatima')"
   ]
  },
  {
   "cell_type": "code",
   "execution_count": 7,
   "metadata": {},
   "outputs": [
    {
     "name": "stdout",
     "output_type": "stream",
     "text": [
      "first name:fatima\n",
      "last name:bushra\n"
     ]
    }
   ],
   "source": [
    "name('fatima','bushra')"
   ]
  },
  {
   "cell_type": "code",
   "execution_count": 8,
   "metadata": {},
   "outputs": [
    {
     "name": "stdout",
     "output_type": "stream",
     "text": [
      "first name:bushra\n",
      "last name:fatima\n"
     ]
    }
   ],
   "source": [
    "name(fname='bushra',lname='fatima')"
   ]
  },
  {
   "cell_type": "code",
   "execution_count": 9,
   "metadata": {},
   "outputs": [
    {
     "name": "stdout",
     "output_type": "stream",
     "text": [
      "first name:bushra\n",
      "last name:fatima\n"
     ]
    }
   ],
   "source": [
    "name(lname='fatima',fname='bushra')"
   ]
  },
  {
   "cell_type": "code",
   "execution_count": 10,
   "metadata": {},
   "outputs": [
    {
     "ename": "NameError",
     "evalue": "name 'fname' is not defined",
     "output_type": "error",
     "traceback": [
      "\u001b[1;31m---------------------------------------------------------------------------\u001b[0m",
      "\u001b[1;31mNameError\u001b[0m                                 Traceback (most recent call last)",
      "\u001b[1;32m<ipython-input-10-fcba5c6860c1>\u001b[0m in \u001b[0;36m<module>\u001b[1;34m\u001b[0m\n\u001b[1;32m----> 1\u001b[1;33m \u001b[0mprint\u001b[0m\u001b[1;33m(\u001b[0m\u001b[0mfname\u001b[0m\u001b[1;33m)\u001b[0m\u001b[1;33m\u001b[0m\u001b[1;33m\u001b[0m\u001b[0m\n\u001b[0m",
      "\u001b[1;31mNameError\u001b[0m: name 'fname' is not defined"
     ]
    }
   ],
   "source": [
    "print(fname) #error is liye he ku k wo locally define he."
   ]
  },
  {
   "cell_type": "code",
   "execution_count": 38,
   "metadata": {},
   "outputs": [],
   "source": [
    "def name(fname,lname):\n",
    "#     global fname\n",
    "#     global lname\n",
    "    print(f'first name:{fname}')\n",
    "    print(f'last name:{lname}')"
   ]
  },
  {
   "cell_type": "code",
   "execution_count": 22,
   "metadata": {},
   "outputs": [],
   "source": [
    "def name(fname,lname,mname):\n",
    "    print(f'first name : {fname}')\n",
    "    print(f'middle name : {mname}')\n",
    "    print(f'last name : {lname}')\n",
    "    "
   ]
  },
  {
   "cell_type": "code",
   "execution_count": 19,
   "metadata": {},
   "outputs": [
    {
     "ename": "SyntaxError",
     "evalue": "positional argument follows keyword argument (<ipython-input-19-f369bc1cb16f>, line 1)",
     "output_type": "error",
     "traceback": [
      "\u001b[1;36m  File \u001b[1;32m\"<ipython-input-19-f369bc1cb16f>\"\u001b[1;36m, line \u001b[1;32m1\u001b[0m\n\u001b[1;33m    name('syeda',mname='bushra','fatima')\u001b[0m\n\u001b[1;37m                               ^\u001b[0m\n\u001b[1;31mSyntaxError\u001b[0m\u001b[1;31m:\u001b[0m positional argument follows keyword argument\n"
     ]
    }
   ],
   "source": [
    "name('syeda',mname='bushra','fatima')"
   ]
  },
  {
   "cell_type": "code",
   "execution_count": 23,
   "metadata": {},
   "outputs": [
    {
     "name": "stdout",
     "output_type": "stream",
     "text": [
      "first name : syeda\n",
      "middle name : bushra\n",
      "last name : fatima\n"
     ]
    }
   ],
   "source": [
    "name('syeda','fatima',mname='bushra')"
   ]
  },
  {
   "cell_type": "code",
   "execution_count": 25,
   "metadata": {},
   "outputs": [
    {
     "ename": "TypeError",
     "evalue": "name() got multiple values for argument 'fname'",
     "output_type": "error",
     "traceback": [
      "\u001b[1;31m---------------------------------------------------------------------------\u001b[0m",
      "\u001b[1;31mTypeError\u001b[0m                                 Traceback (most recent call last)",
      "\u001b[1;32m<ipython-input-25-1d9f3911e3ce>\u001b[0m in \u001b[0;36m<module>\u001b[1;34m\u001b[0m\n\u001b[1;32m----> 1\u001b[1;33m \u001b[0mname\u001b[0m\u001b[1;33m(\u001b[0m\u001b[1;34m'syeda'\u001b[0m\u001b[1;33m,\u001b[0m\u001b[1;34m'fatima'\u001b[0m\u001b[1;33m,\u001b[0m\u001b[0mfname\u001b[0m\u001b[1;33m=\u001b[0m\u001b[1;34m'bushra'\u001b[0m\u001b[1;33m)\u001b[0m\u001b[1;33m\u001b[0m\u001b[1;33m\u001b[0m\u001b[0m\n\u001b[0m",
      "\u001b[1;31mTypeError\u001b[0m: name() got multiple values for argument 'fname'"
     ]
    }
   ],
   "source": [
    "name('syeda','fatima',fname='bushra') # aik hi parameter me 2 values store hone se wo error de raha he"
   ]
  },
  {
   "cell_type": "code",
   "execution_count": 29,
   "metadata": {},
   "outputs": [],
   "source": [
    "def pizza(size,flavour,*toppings): #jab hume no of arguments pta na ho to we use * in last\n",
    "    print(size,flavour)\n",
    "    print(toppings)"
   ]
  },
  {
   "cell_type": "code",
   "execution_count": 30,
   "metadata": {},
   "outputs": [
    {
     "name": "stdout",
     "output_type": "stream",
     "text": [
      "large fatija\n",
      "('extra cheez',)\n"
     ]
    }
   ],
   "source": [
    "pizza('large','fatija','extra cheez')\n"
   ]
  },
  {
   "cell_type": "code",
   "execution_count": 32,
   "metadata": {},
   "outputs": [
    {
     "name": "stdout",
     "output_type": "stream",
     "text": [
      "large fatija\n",
      "('extra cheez', 'mirch ziada')\n"
     ]
    }
   ],
   "source": [
    "pizza('large','fatija','extra cheez','mirch ziada')"
   ]
  },
  {
   "cell_type": "code",
   "execution_count": 33,
   "metadata": {},
   "outputs": [
    {
     "name": "stdout",
     "output_type": "stream",
     "text": [
      "large fatija\n",
      "()\n"
     ]
    }
   ],
   "source": [
    "pizza('large','fatija')"
   ]
  },
  {
   "cell_type": "code",
   "execution_count": null,
   "metadata": {},
   "outputs": [],
   "source": [
    "# ye tupples me isliye daita he ku k wo modified nhi hopaiga to mistake k issues nhi honge"
   ]
  },
  {
   "cell_type": "code",
   "execution_count": 39,
   "metadata": {},
   "outputs": [],
   "source": [
    "def car(make,model,**specs): # jab ** lgate hain to wo key word argument leta \n",
    "    print(make,model)\n",
    "    print(specs)"
   ]
  },
  {
   "cell_type": "code",
   "execution_count": 40,
   "metadata": {},
   "outputs": [
    {
     "name": "stdout",
     "output_type": "stream",
     "text": [
      "toyota prius\n",
      "{'transmission': 'automatic'}\n"
     ]
    }
   ],
   "source": [
    "car(\"toyota\",\"prius\",transmission=\"automatic\")"
   ]
  },
  {
   "cell_type": "code",
   "execution_count": 41,
   "metadata": {},
   "outputs": [
    {
     "name": "stdout",
     "output_type": "stream",
     "text": [
      "toyota prius\n",
      "{'transmission': 'automatic', 'power': 'Yes'}\n"
     ]
    }
   ],
   "source": [
    "car(\"toyota\",\"prius\",transmission=\"automatic\",power=\"Yes\")"
   ]
  },
  {
   "cell_type": "markdown",
   "metadata": {},
   "source": [
    "# function as a variable"
   ]
  },
  {
   "cell_type": "code",
   "execution_count": 56,
   "metadata": {},
   "outputs": [],
   "source": [
    "def add(a,b):\n",
    "    c= a+b\n",
    "#     return c"
   ]
  },
  {
   "cell_type": "code",
   "execution_count": 44,
   "metadata": {},
   "outputs": [],
   "source": [
    "def sub(a,b):\n",
    "    c=a-b\n",
    "    return c\n",
    "    "
   ]
  },
  {
   "cell_type": "code",
   "execution_count": 54,
   "metadata": {},
   "outputs": [
    {
     "name": "stdout",
     "output_type": "stream",
     "text": [
      "7\n"
     ]
    }
   ],
   "source": [
    "result=add(2,2)+sub(6,3)\n",
    "print(result)"
   ]
  },
  {
   "cell_type": "code",
   "execution_count": 57,
   "metadata": {},
   "outputs": [
    {
     "name": "stdout",
     "output_type": "stream",
     "text": [
      "None\n"
     ]
    }
   ],
   "source": [
    "result=add('bushra','fatima')\n",
    "print(result)"
   ]
  },
  {
   "cell_type": "markdown",
   "metadata": {},
   "source": [
    "# while loop"
   ]
  },
  {
   "cell_type": "code",
   "execution_count": 58,
   "metadata": {},
   "outputs": [
    {
     "name": "stdout",
     "output_type": "stream",
     "text": [
      "0\n",
      "1\n",
      "2\n",
      "3\n",
      "4\n",
      "5\n",
      "6\n",
      "7\n",
      "8\n",
      "9\n"
     ]
    }
   ],
   "source": [
    "for a in range(10):\n",
    "    print(a)"
   ]
  },
  {
   "cell_type": "code",
   "execution_count": null,
   "metadata": {},
   "outputs": [],
   "source": [
    "#for loop shru se akhir tk chlta he agr user ziada dalna chahe tb bhi nhi jaskta r kum dena he tb bhi mgr while me hum user \n",
    "#ko control deskte hain"
   ]
  },
  {
   "cell_type": "code",
   "execution_count": 2,
   "metadata": {},
   "outputs": [
    {
     "name": "stdout",
     "output_type": "stream",
     "text": [
      "0\n",
      "1\n",
      "2\n",
      "3\n",
      "4\n",
      "5\n",
      "6\n",
      "7\n",
      "8\n",
      "9\n"
     ]
    }
   ],
   "source": [
    "a=0\n",
    "while a<10:\n",
    "    print(a)\n",
    "    a=a+1"
   ]
  },
  {
   "cell_type": "code",
   "execution_count": 4,
   "metadata": {},
   "outputs": [
    {
     "name": "stdout",
     "output_type": "stream",
     "text": [
      "Enter a topping: a\n",
      "Enter a topping: b\n",
      "Enter a topping: c\n",
      "Enter a topping: d\n",
      "Enter a topping: e\n",
      "['a', 'b', 'c', 'd', 'e']\n"
     ]
    }
   ],
   "source": [
    "topping=[]\n",
    "for a in range(5):\n",
    "    toppings=input(\"Enter a topping: \")\n",
    "    topping.append(toppings)\n",
    "\n",
    "print(topping)"
   ]
  },
  {
   "cell_type": "code",
   "execution_count": 3,
   "metadata": {},
   "outputs": [
    {
     "name": "stdout",
     "output_type": "stream",
     "text": [
      "Enter a topping: a\n",
      "Enter a topping: b\n",
      "Enter a topping: c\n",
      "Enter a topping: d\n",
      "Enter a topping: q\n",
      "['a', 'b', 'c', 'd']\n"
     ]
    }
   ],
   "source": [
    "toppings=[]\n",
    "flag=True\n",
    "while flag:\n",
    "    topping=input(\"Enter a topping: \")\n",
    "    if topping=='q':\n",
    "        flag=False\n",
    "    else:\n",
    "        toppings.append(topping)\n",
    "print(toppings)"
   ]
  },
  {
   "cell_type": "code",
   "execution_count": null,
   "metadata": {},
   "outputs": [],
   "source": [
    "available_flavours=['fjita','tikka','beef','vegi','mexican']\n",
    "available_size=['small','medium','large']\n",
    "available_toppings=['extra cheese','olives','hurbs']\n",
    "\n",
    "print(\"Pizza Order\")\n",
    "print()\n",
    "print()\n",
    "flag=True\n",
    "while flag:\n",
    "    print(available_size)\n",
    "    size=input(\"Enter pizza size: \")\n",
    "    print(available_flavour)\n",
    "    flavour=input(\"Enter pizza flavour: \")\n",
    "    print(available_toppings)\n",
    "    toppings=input(\"Enter topping: \")\n",
    "        "
   ]
  }
 ],
 "metadata": {
  "kernelspec": {
   "display_name": "Python 3",
   "language": "python",
   "name": "python3"
  },
  "language_info": {
   "codemirror_mode": {
    "name": "ipython",
    "version": 3
   },
   "file_extension": ".py",
   "mimetype": "text/x-python",
   "name": "python",
   "nbconvert_exporter": "python",
   "pygments_lexer": "ipython3",
   "version": "3.7.3"
  }
 },
 "nbformat": 4,
 "nbformat_minor": 2
}
